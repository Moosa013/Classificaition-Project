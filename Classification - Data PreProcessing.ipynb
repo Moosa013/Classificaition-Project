{
 "cells": [
  {
   "cell_type": "markdown",
   "id": "2dac625d-c435-4927-9256-38eca9951d5d",
   "metadata": {},
   "source": [
    "# NLP & Classification Group Project\n",
    "\n",
    "### Project Title: News Article Category Predictions\n",
    "#### Done By: Amogelang Mogwane, Chris Phillip, Moosa Molibeli & Tiisetso Gabaza\n",
    "\n",
    "© ExploreAI 2024\n",
    "\n",
    "----"
   ]
  },
  {
   "cell_type": "markdown",
   "id": "055a7af2-af30-4fdc-8848-2aa468b291a7",
   "metadata": {},
   "source": [
    "![NewsPaper](newspaper1.jpg)"
   ]
  },
  {
   "cell_type": "markdown",
   "id": "b2c69e3e-0dbb-4735-8314-5082e5ebbaf2",
   "metadata": {},
   "source": [
    "<a id=\"cont\"></a>\n",
    "## Table of Contents\n",
    "\n",
    "<a href=#one>1. Background Context</a>\n",
    "\n",
    "<a href=#two>2. Importing Packages</a>\n",
    "\n",
    "<a href=#three>3. Data Collection and Description</a>\n",
    "\n",
    "<a href=#four>4. Loading Data </a>\n",
    "\n",
    "<a href=#five>5. Data Cleaning and PreProcessing</a>\n",
    "\n",
    "<a href=#six>6. Exploratory Data Analysis (EDA)</a>\n",
    "\n",
    "<a href=#seven>7. Modeling</a>\n",
    "\n",
    "<a href=#eight>8. Evaluation and Validation</a>\n",
    "\n",
    "<a href=#nine>9. Final Model</a>\n",
    "\n",
    "<a href=#ten>10. Conclusion and Future Work</a>\n",
    "\n",
    "<a href=#eleven>11. References</a>"
   ]
  },
  {
   "cell_type": "markdown",
   "id": "11960c91-6da9-41fc-a69e-ae34a39ecae0",
   "metadata": {},
   "source": [
    "---\n",
    "<a id=\"one\"></a>\n",
    "## Background Context\n",
    "<a href=#cont>Back to Table of Contents</a>"
   ]
  },
  {
   "cell_type": "markdown",
   "id": "2e52f5ab-2e2a-464a-9678-402ac3a4e07e",
   "metadata": {},
   "source": [
    "From the inception of printed newspapers, every article has been assigned to a specific section. While many aspects of the newspaper industry have evolved—ranging from ink and paper types to distribution methods—the practice of categorizing news has persisted across generations, extending into digital formats. Newspaper articles cover a broad spectrum of topics, including politics, sports, and entertainment. Historically, categorization was primarily a manual process, but advancements in technology now allow for automated classification with minimal effort.\n",
    "\n",
    "This project aims to design and develop an application that predicts the categories of news articles intended for publication. By utilizing classification algorithms, we will analyze the content of articles to determine their respective genres. The proposed algorithm will not only classify existing topics but also adapt to new topics as they emerge in the content. While the algorithm is extendable to multiple languages, this paper will primarily focus on English.\n",
    "\n",
    "In the realm of news article classification, multi-label text classification poses a significant challenge. Our objective is to assign one or more category labels to each article. For each category, classifiers will provide binary responses—either \"yes\" or \"no\"—indicating whether a specific category applies to the given test data. This approach utilizes binary classifiers, and we will implement several standard algorithms, including K-Nearest Neighbours, Support Vector Machines, and Logistic Regression, which are commonly used for binary classification. We will evaluate these three approaches and select the best model based on predetermined parameters for predicting news categories.\n",
    "\n",
    "A robust category classification algorithm for news articles must achieve high precision while remaining easily updatable. Given the continuous evolution of news topics and events, the ability to seamlessly add new categories to the classifier is essential."
   ]
  },
  {
   "cell_type": "markdown",
   "id": "d6455690-f3a6-4147-82ca-48ccc53c7673",
   "metadata": {},
   "source": [
    "![News Articles](newspaper2.jpg)"
   ]
  },
  {
   "cell_type": "markdown",
   "id": "53369b0b-4e3c-4d5e-875e-4652a29a1674",
   "metadata": {},
   "source": [
    "---\n",
    "<a id=\"two\"></a>\n",
    "## Importing Packages\n",
    "<a href=#cont>Back to Table of Contents</a>"
   ]
  },
  {
   "cell_type": "markdown",
   "id": "14941b06-3170-44a1-9646-1b0a50021b35",
   "metadata": {},
   "source": [
    "**Please Note:**\n",
    "*The below are all the libraries I believe I will need for this project. This list will be adjusted as needed throughout the project*"
   ]
  },
  {
   "cell_type": "code",
   "execution_count": 23,
   "id": "e8633897-6f34-41b3-a513-0679e3878971",
   "metadata": {},
   "outputs": [],
   "source": [
    "import pandas as pd\n",
    "import numpy as np\n",
    "from matplotlib import pyplot as plt \n",
    "import seaborn as sns\n",
    "import nltk\n",
    "import re\n",
    "from nltk.corpus import stopwords\n",
    "from nltk.stem.porter import PorterStemmer\n",
    "from sklearn.feature_extraction.text import TfidfVectorizer\n",
    "\n",
    "import warnings\n",
    "warnings.filterwarnings('ignore')"
   ]
  },
  {
   "cell_type": "code",
   "execution_count": 1,
   "id": "edf9cc41-79e1-4f12-9816-b708135ff283",
   "metadata": {},
   "outputs": [],
   "source": [
    "# !pip install wordcloud\n",
    "# pip install imbalanced-learn"
   ]
  },
  {
   "cell_type": "markdown",
   "id": "721dbba7-a30b-47de-99e6-08fe50e643a0",
   "metadata": {},
   "source": [
    "---\n",
    "<a id=\"three\"></a>\n",
    "## Data Collection and Description\n",
    "<a href=#cont>Back to Table of Contents</a>"
   ]
  },
  {
   "cell_type": "markdown",
   "id": "7ceea719-06a5-4e07-ac69-a5177d2b28a0",
   "metadata": {},
   "source": [
    "This project utilizes a news dataset containing articles categorized into five distinct groups: Sports, Business, Entertainment, Education, and Technology. The dataset is randomly partitioned into training and testing sets, with the challenge of developing a classification model to predict the category of each news article.\n",
    "\n",
    "The training dataset comprises 5,520 records across five columns, while the testing dataset consists of 2,000 observations with the same column structure. The columns included in the dataset are: 'index', 'headlines', 'description', 'content', 'url', and 'category'. The target variable for prediction is the 'category' column. Other columns will either be discarded (e.g., the 'url' column) or combined to create a single content column for the articles."
   ]
  },
  {
   "cell_type": "markdown",
   "id": "6fd33686-53ba-4c58-aa5d-cbb32283ccdf",
   "metadata": {},
   "source": [
    "---\n",
    "<a id=\"four\"></a>\n",
    "## Loading Data\n",
    "<a href=#cont>Back to Table of Contents</a>"
   ]
  },
  {
   "cell_type": "code",
   "execution_count": 24,
   "id": "fed44c16-cf6a-4e7b-bb2a-2ecbc6504f5e",
   "metadata": {},
   "outputs": [],
   "source": [
    "# loading our training and our testing data sets\n",
    "train_df = pd.read_csv(\"train.csv\")\n",
    "test_df = pd.read_csv(\"test.csv\")"
   ]
  },
  {
   "cell_type": "code",
   "execution_count": 25,
   "id": "adf5b899-ed4f-420c-bb39-c90f9464d462",
   "metadata": {},
   "outputs": [
    {
     "data": {
      "text/html": [
       "<div>\n",
       "<style scoped>\n",
       "    .dataframe tbody tr th:only-of-type {\n",
       "        vertical-align: middle;\n",
       "    }\n",
       "\n",
       "    .dataframe tbody tr th {\n",
       "        vertical-align: top;\n",
       "    }\n",
       "\n",
       "    .dataframe thead th {\n",
       "        text-align: right;\n",
       "    }\n",
       "</style>\n",
       "<table border=\"1\" class=\"dataframe\">\n",
       "  <thead>\n",
       "    <tr style=\"text-align: right;\">\n",
       "      <th></th>\n",
       "      <th>headlines</th>\n",
       "      <th>description</th>\n",
       "      <th>content</th>\n",
       "      <th>url</th>\n",
       "      <th>category</th>\n",
       "    </tr>\n",
       "  </thead>\n",
       "  <tbody>\n",
       "    <tr>\n",
       "      <th>0</th>\n",
       "      <td>RBI revises definition of politically-exposed ...</td>\n",
       "      <td>The central bank has also asked chairpersons a...</td>\n",
       "      <td>The Reserve Bank of India (RBI) has changed th...</td>\n",
       "      <td>https://indianexpress.com/article/business/ban...</td>\n",
       "      <td>business</td>\n",
       "    </tr>\n",
       "    <tr>\n",
       "      <th>1</th>\n",
       "      <td>NDTV Q2 net profit falls 57.4% to Rs 5.55 cror...</td>\n",
       "      <td>NDTV's consolidated revenue from operations wa...</td>\n",
       "      <td>Broadcaster New Delhi Television Ltd on Monday...</td>\n",
       "      <td>https://indianexpress.com/article/business/com...</td>\n",
       "      <td>business</td>\n",
       "    </tr>\n",
       "    <tr>\n",
       "      <th>2</th>\n",
       "      <td>Akasa Air ‘well capitalised’, can grow much fa...</td>\n",
       "      <td>The initial share sale will be open for public...</td>\n",
       "      <td>Homegrown server maker Netweb Technologies Ind...</td>\n",
       "      <td>https://indianexpress.com/article/business/mar...</td>\n",
       "      <td>business</td>\n",
       "    </tr>\n",
       "    <tr>\n",
       "      <th>3</th>\n",
       "      <td>India’s current account deficit declines sharp...</td>\n",
       "      <td>The current account deficit (CAD) was 3.8 per ...</td>\n",
       "      <td>India’s current account deficit declined sharp...</td>\n",
       "      <td>https://indianexpress.com/article/business/eco...</td>\n",
       "      <td>business</td>\n",
       "    </tr>\n",
       "    <tr>\n",
       "      <th>4</th>\n",
       "      <td>States borrowing cost soars to 7.68%, highest ...</td>\n",
       "      <td>The prices shot up reflecting the overall high...</td>\n",
       "      <td>States have been forced to pay through their n...</td>\n",
       "      <td>https://indianexpress.com/article/business/eco...</td>\n",
       "      <td>business</td>\n",
       "    </tr>\n",
       "  </tbody>\n",
       "</table>\n",
       "</div>"
      ],
      "text/plain": [
       "                                           headlines  \\\n",
       "0  RBI revises definition of politically-exposed ...   \n",
       "1  NDTV Q2 net profit falls 57.4% to Rs 5.55 cror...   \n",
       "2  Akasa Air ‘well capitalised’, can grow much fa...   \n",
       "3  India’s current account deficit declines sharp...   \n",
       "4  States borrowing cost soars to 7.68%, highest ...   \n",
       "\n",
       "                                         description  \\\n",
       "0  The central bank has also asked chairpersons a...   \n",
       "1  NDTV's consolidated revenue from operations wa...   \n",
       "2  The initial share sale will be open for public...   \n",
       "3  The current account deficit (CAD) was 3.8 per ...   \n",
       "4  The prices shot up reflecting the overall high...   \n",
       "\n",
       "                                             content  \\\n",
       "0  The Reserve Bank of India (RBI) has changed th...   \n",
       "1  Broadcaster New Delhi Television Ltd on Monday...   \n",
       "2  Homegrown server maker Netweb Technologies Ind...   \n",
       "3  India’s current account deficit declined sharp...   \n",
       "4  States have been forced to pay through their n...   \n",
       "\n",
       "                                                 url  category  \n",
       "0  https://indianexpress.com/article/business/ban...  business  \n",
       "1  https://indianexpress.com/article/business/com...  business  \n",
       "2  https://indianexpress.com/article/business/mar...  business  \n",
       "3  https://indianexpress.com/article/business/eco...  business  \n",
       "4  https://indianexpress.com/article/business/eco...  business  "
      ]
     },
     "execution_count": 25,
     "metadata": {},
     "output_type": "execute_result"
    }
   ],
   "source": [
    "# getting a sense of the training data from the first 5 observations\n",
    "train_df.head()"
   ]
  },
  {
   "cell_type": "code",
   "execution_count": 26,
   "id": "5f471442-70a2-4f0a-bcbd-441f8de6e180",
   "metadata": {},
   "outputs": [
    {
     "data": {
      "text/plain": [
       "(5520, 5)"
      ]
     },
     "execution_count": 26,
     "metadata": {},
     "output_type": "execute_result"
    }
   ],
   "source": [
    "# understanding the structure of the training dataset\n",
    "train_df.shape"
   ]
  },
  {
   "cell_type": "code",
   "execution_count": 27,
   "id": "bd8a13c6-fa81-4f2d-b0e0-a625536f8214",
   "metadata": {},
   "outputs": [
    {
     "data": {
      "text/plain": [
       "(2000, 5)"
      ]
     },
     "execution_count": 27,
     "metadata": {},
     "output_type": "execute_result"
    }
   ],
   "source": [
    "# understanding the structure of the testing dataset\n",
    "test_df.shape"
   ]
  },
  {
   "cell_type": "markdown",
   "id": "ee64b633-fefd-4d86-9baf-45086fef46b3",
   "metadata": {},
   "source": [
    "---\n",
    "<a id=\"five\"></a>\n",
    "## Data Cleaning and PreProcessing\n",
    "<a href=#cont>Back to Table of Contents</a>"
   ]
  },
  {
   "cell_type": "markdown",
   "id": "25f4f11d-50e4-46e0-af18-b418b7783424",
   "metadata": {},
   "source": [
    "Data cleaning is an essential first step in any data-driven project, ensuring the dataset is accurate, consistent, and ready for analysis. For our news article classification project, this involves several processes to improve data quality.\n",
    "\n",
    "We will start by creating a copy of the training dataset. This way, any major changes can be made while preserving the original for reference."
   ]
  },
  {
   "cell_type": "code",
   "execution_count": 28,
   "id": "b089e79e-8a2e-4885-82c5-4e73439d21fe",
   "metadata": {},
   "outputs": [],
   "source": [
    "# creating a copy of the training dataframe\n",
    "train_df_copy = train_df.copy()"
   ]
  },
  {
   "cell_type": "markdown",
   "id": "db618f7a-f576-444e-948b-690ea72737da",
   "metadata": {},
   "source": [
    "Next, we'll address any missing or incomplete data. Missing values can distort results and lead to inaccurate conclusions, so it's crucial to identify and handle these gaps through imputation, removal, or replacement."
   ]
  },
  {
   "cell_type": "code",
   "execution_count": 29,
   "id": "c0615c75-a4ab-4dd2-8c80-53407e6814cf",
   "metadata": {},
   "outputs": [
    {
     "data": {
      "text/plain": [
       "headlines      0\n",
       "description    0\n",
       "content        0\n",
       "url            0\n",
       "category       0\n",
       "dtype: int64"
      ]
     },
     "execution_count": 29,
     "metadata": {},
     "output_type": "execute_result"
    }
   ],
   "source": [
    "# checking for missing values\n",
    "train_df_copy.isnull().sum()"
   ]
  },
  {
   "cell_type": "markdown",
   "id": "2790467b-817f-4370-94a7-698daa17a668",
   "metadata": {},
   "source": [
    "Since there are no missing values, we can confidently move on to the next phase of the project.\n",
    "\n",
    "Next, we will address any duplicate records to avoid bias in model training. Ensuring each article is unique is essential for accurately training the classification model."
   ]
  },
  {
   "cell_type": "code",
   "execution_count": 30,
   "id": "3c497e7c-0f18-43b3-b111-80ac243b7e3f",
   "metadata": {},
   "outputs": [
    {
     "data": {
      "text/plain": [
       "(5520, 5)"
      ]
     },
     "execution_count": 30,
     "metadata": {},
     "output_type": "execute_result"
    }
   ],
   "source": [
    "# dropping any duplicates that might exist\n",
    "train_df_copy.drop_duplicates(inplace=True)\n",
    "\n",
    "train_df_copy.shape"
   ]
  },
  {
   "cell_type": "markdown",
   "id": "27c3f7b0-9cf2-49d7-bb96-dbe3a1b18dbe",
   "metadata": {},
   "source": [
    "The structure of the training dataset remains intact, confirming there are no duplicates. We can proceed with confidence, knowing our dataset is unbiased for modeling.\n",
    "\n",
    "Next, we will remove the URL column, as it does not add value to our news category predictions and is considered redundant."
   ]
  },
  {
   "cell_type": "code",
   "execution_count": 31,
   "id": "7c30c736-3376-4398-98d0-e454c550219c",
   "metadata": {},
   "outputs": [
    {
     "data": {
      "text/html": [
       "<div>\n",
       "<style scoped>\n",
       "    .dataframe tbody tr th:only-of-type {\n",
       "        vertical-align: middle;\n",
       "    }\n",
       "\n",
       "    .dataframe tbody tr th {\n",
       "        vertical-align: top;\n",
       "    }\n",
       "\n",
       "    .dataframe thead th {\n",
       "        text-align: right;\n",
       "    }\n",
       "</style>\n",
       "<table border=\"1\" class=\"dataframe\">\n",
       "  <thead>\n",
       "    <tr style=\"text-align: right;\">\n",
       "      <th></th>\n",
       "      <th>headlines</th>\n",
       "      <th>description</th>\n",
       "      <th>content</th>\n",
       "      <th>category</th>\n",
       "    </tr>\n",
       "  </thead>\n",
       "  <tbody>\n",
       "    <tr>\n",
       "      <th>0</th>\n",
       "      <td>RBI revises definition of politically-exposed ...</td>\n",
       "      <td>The central bank has also asked chairpersons a...</td>\n",
       "      <td>The Reserve Bank of India (RBI) has changed th...</td>\n",
       "      <td>business</td>\n",
       "    </tr>\n",
       "    <tr>\n",
       "      <th>1</th>\n",
       "      <td>NDTV Q2 net profit falls 57.4% to Rs 5.55 cror...</td>\n",
       "      <td>NDTV's consolidated revenue from operations wa...</td>\n",
       "      <td>Broadcaster New Delhi Television Ltd on Monday...</td>\n",
       "      <td>business</td>\n",
       "    </tr>\n",
       "    <tr>\n",
       "      <th>2</th>\n",
       "      <td>Akasa Air ‘well capitalised’, can grow much fa...</td>\n",
       "      <td>The initial share sale will be open for public...</td>\n",
       "      <td>Homegrown server maker Netweb Technologies Ind...</td>\n",
       "      <td>business</td>\n",
       "    </tr>\n",
       "    <tr>\n",
       "      <th>3</th>\n",
       "      <td>India’s current account deficit declines sharp...</td>\n",
       "      <td>The current account deficit (CAD) was 3.8 per ...</td>\n",
       "      <td>India’s current account deficit declined sharp...</td>\n",
       "      <td>business</td>\n",
       "    </tr>\n",
       "    <tr>\n",
       "      <th>4</th>\n",
       "      <td>States borrowing cost soars to 7.68%, highest ...</td>\n",
       "      <td>The prices shot up reflecting the overall high...</td>\n",
       "      <td>States have been forced to pay through their n...</td>\n",
       "      <td>business</td>\n",
       "    </tr>\n",
       "  </tbody>\n",
       "</table>\n",
       "</div>"
      ],
      "text/plain": [
       "                                           headlines  \\\n",
       "0  RBI revises definition of politically-exposed ...   \n",
       "1  NDTV Q2 net profit falls 57.4% to Rs 5.55 cror...   \n",
       "2  Akasa Air ‘well capitalised’, can grow much fa...   \n",
       "3  India’s current account deficit declines sharp...   \n",
       "4  States borrowing cost soars to 7.68%, highest ...   \n",
       "\n",
       "                                         description  \\\n",
       "0  The central bank has also asked chairpersons a...   \n",
       "1  NDTV's consolidated revenue from operations wa...   \n",
       "2  The initial share sale will be open for public...   \n",
       "3  The current account deficit (CAD) was 3.8 per ...   \n",
       "4  The prices shot up reflecting the overall high...   \n",
       "\n",
       "                                             content  category  \n",
       "0  The Reserve Bank of India (RBI) has changed th...  business  \n",
       "1  Broadcaster New Delhi Television Ltd on Monday...  business  \n",
       "2  Homegrown server maker Netweb Technologies Ind...  business  \n",
       "3  India’s current account deficit declined sharp...  business  \n",
       "4  States have been forced to pay through their n...  business  "
      ]
     },
     "execution_count": 31,
     "metadata": {},
     "output_type": "execute_result"
    }
   ],
   "source": [
    "# removing redundant url column \n",
    "train_df_copy.drop(columns=\"url\",inplace=True)\n",
    "\n",
    "train_df_copy.head()"
   ]
  },
  {
   "cell_type": "markdown",
   "id": "6015a3f8-3863-4b1b-bd32-9a2f317ee0c7",
   "metadata": {},
   "source": [
    "Now that we've removed the URL column, we can map the category column for classification. Currently, the categories are in text format, so converting them to integers will allow us to use classification algorithms. We will define a function to facilitate this conversion."
   ]
  },
  {
   "cell_type": "code",
   "execution_count": 32,
   "id": "cf9c1a68-6045-4b69-8f90-541406541712",
   "metadata": {},
   "outputs": [],
   "source": [
    "# mapping category column for classification\n",
    "def map_category(category):\n",
    "    category_map = {\n",
    "        'sports': 0,\n",
    "        'business': 1,\n",
    "        'entertainment': 2,\n",
    "        'education': 3,\n",
    "        'technology': 4\n",
    "    }\n",
    "    return category_map.get(category, -1)\n",
    "train_df_copy['Category'] = train_df_copy['category'].apply(map_category)"
   ]
  },
  {
   "cell_type": "code",
   "execution_count": 33,
   "id": "f443a8e2-afd4-4a54-832a-456c0b77c26f",
   "metadata": {},
   "outputs": [
    {
     "data": {
      "text/html": [
       "<div>\n",
       "<style scoped>\n",
       "    .dataframe tbody tr th:only-of-type {\n",
       "        vertical-align: middle;\n",
       "    }\n",
       "\n",
       "    .dataframe tbody tr th {\n",
       "        vertical-align: top;\n",
       "    }\n",
       "\n",
       "    .dataframe thead th {\n",
       "        text-align: right;\n",
       "    }\n",
       "</style>\n",
       "<table border=\"1\" class=\"dataframe\">\n",
       "  <thead>\n",
       "    <tr style=\"text-align: right;\">\n",
       "      <th></th>\n",
       "      <th>headlines</th>\n",
       "      <th>description</th>\n",
       "      <th>content</th>\n",
       "      <th>category</th>\n",
       "      <th>Category</th>\n",
       "    </tr>\n",
       "  </thead>\n",
       "  <tbody>\n",
       "    <tr>\n",
       "      <th>0</th>\n",
       "      <td>RBI revises definition of politically-exposed ...</td>\n",
       "      <td>The central bank has also asked chairpersons a...</td>\n",
       "      <td>The Reserve Bank of India (RBI) has changed th...</td>\n",
       "      <td>business</td>\n",
       "      <td>1</td>\n",
       "    </tr>\n",
       "    <tr>\n",
       "      <th>1</th>\n",
       "      <td>NDTV Q2 net profit falls 57.4% to Rs 5.55 cror...</td>\n",
       "      <td>NDTV's consolidated revenue from operations wa...</td>\n",
       "      <td>Broadcaster New Delhi Television Ltd on Monday...</td>\n",
       "      <td>business</td>\n",
       "      <td>1</td>\n",
       "    </tr>\n",
       "    <tr>\n",
       "      <th>2</th>\n",
       "      <td>Akasa Air ‘well capitalised’, can grow much fa...</td>\n",
       "      <td>The initial share sale will be open for public...</td>\n",
       "      <td>Homegrown server maker Netweb Technologies Ind...</td>\n",
       "      <td>business</td>\n",
       "      <td>1</td>\n",
       "    </tr>\n",
       "    <tr>\n",
       "      <th>3</th>\n",
       "      <td>India’s current account deficit declines sharp...</td>\n",
       "      <td>The current account deficit (CAD) was 3.8 per ...</td>\n",
       "      <td>India’s current account deficit declined sharp...</td>\n",
       "      <td>business</td>\n",
       "      <td>1</td>\n",
       "    </tr>\n",
       "    <tr>\n",
       "      <th>4</th>\n",
       "      <td>States borrowing cost soars to 7.68%, highest ...</td>\n",
       "      <td>The prices shot up reflecting the overall high...</td>\n",
       "      <td>States have been forced to pay through their n...</td>\n",
       "      <td>business</td>\n",
       "      <td>1</td>\n",
       "    </tr>\n",
       "  </tbody>\n",
       "</table>\n",
       "</div>"
      ],
      "text/plain": [
       "                                           headlines  \\\n",
       "0  RBI revises definition of politically-exposed ...   \n",
       "1  NDTV Q2 net profit falls 57.4% to Rs 5.55 cror...   \n",
       "2  Akasa Air ‘well capitalised’, can grow much fa...   \n",
       "3  India’s current account deficit declines sharp...   \n",
       "4  States borrowing cost soars to 7.68%, highest ...   \n",
       "\n",
       "                                         description  \\\n",
       "0  The central bank has also asked chairpersons a...   \n",
       "1  NDTV's consolidated revenue from operations wa...   \n",
       "2  The initial share sale will be open for public...   \n",
       "3  The current account deficit (CAD) was 3.8 per ...   \n",
       "4  The prices shot up reflecting the overall high...   \n",
       "\n",
       "                                             content  category  Category  \n",
       "0  The Reserve Bank of India (RBI) has changed th...  business         1  \n",
       "1  Broadcaster New Delhi Television Ltd on Monday...  business         1  \n",
       "2  Homegrown server maker Netweb Technologies Ind...  business         1  \n",
       "3  India’s current account deficit declined sharp...  business         1  \n",
       "4  States have been forced to pay through their n...  business         1  "
      ]
     },
     "execution_count": 33,
     "metadata": {},
     "output_type": "execute_result"
    }
   ],
   "source": [
    "train_df_copy.head()"
   ]
  },
  {
   "cell_type": "markdown",
   "id": "298d1394-34b5-4f6b-aef6-62b217b87ac6",
   "metadata": {},
   "source": [
    "Now that we have created a new category column, the old one is redundant and can be removed in order to keep the dataframe clean and of good quality."
   ]
  },
  {
   "cell_type": "code",
   "execution_count": 34,
   "id": "763a4b11-17b5-4afe-9474-757ef958702c",
   "metadata": {},
   "outputs": [],
   "source": [
    "train_df_copy.drop('category', axis=1, inplace=True)"
   ]
  },
  {
   "cell_type": "code",
   "execution_count": 35,
   "id": "8a2cfa9a-e718-4e2d-99d2-efcc996f26e9",
   "metadata": {},
   "outputs": [
    {
     "data": {
      "text/html": [
       "<div>\n",
       "<style scoped>\n",
       "    .dataframe tbody tr th:only-of-type {\n",
       "        vertical-align: middle;\n",
       "    }\n",
       "\n",
       "    .dataframe tbody tr th {\n",
       "        vertical-align: top;\n",
       "    }\n",
       "\n",
       "    .dataframe thead th {\n",
       "        text-align: right;\n",
       "    }\n",
       "</style>\n",
       "<table border=\"1\" class=\"dataframe\">\n",
       "  <thead>\n",
       "    <tr style=\"text-align: right;\">\n",
       "      <th></th>\n",
       "      <th>headlines</th>\n",
       "      <th>description</th>\n",
       "      <th>content</th>\n",
       "      <th>Category</th>\n",
       "    </tr>\n",
       "  </thead>\n",
       "  <tbody>\n",
       "    <tr>\n",
       "      <th>0</th>\n",
       "      <td>RBI revises definition of politically-exposed ...</td>\n",
       "      <td>The central bank has also asked chairpersons a...</td>\n",
       "      <td>The Reserve Bank of India (RBI) has changed th...</td>\n",
       "      <td>1</td>\n",
       "    </tr>\n",
       "    <tr>\n",
       "      <th>1</th>\n",
       "      <td>NDTV Q2 net profit falls 57.4% to Rs 5.55 cror...</td>\n",
       "      <td>NDTV's consolidated revenue from operations wa...</td>\n",
       "      <td>Broadcaster New Delhi Television Ltd on Monday...</td>\n",
       "      <td>1</td>\n",
       "    </tr>\n",
       "    <tr>\n",
       "      <th>2</th>\n",
       "      <td>Akasa Air ‘well capitalised’, can grow much fa...</td>\n",
       "      <td>The initial share sale will be open for public...</td>\n",
       "      <td>Homegrown server maker Netweb Technologies Ind...</td>\n",
       "      <td>1</td>\n",
       "    </tr>\n",
       "    <tr>\n",
       "      <th>3</th>\n",
       "      <td>India’s current account deficit declines sharp...</td>\n",
       "      <td>The current account deficit (CAD) was 3.8 per ...</td>\n",
       "      <td>India’s current account deficit declined sharp...</td>\n",
       "      <td>1</td>\n",
       "    </tr>\n",
       "    <tr>\n",
       "      <th>4</th>\n",
       "      <td>States borrowing cost soars to 7.68%, highest ...</td>\n",
       "      <td>The prices shot up reflecting the overall high...</td>\n",
       "      <td>States have been forced to pay through their n...</td>\n",
       "      <td>1</td>\n",
       "    </tr>\n",
       "  </tbody>\n",
       "</table>\n",
       "</div>"
      ],
      "text/plain": [
       "                                           headlines  \\\n",
       "0  RBI revises definition of politically-exposed ...   \n",
       "1  NDTV Q2 net profit falls 57.4% to Rs 5.55 cror...   \n",
       "2  Akasa Air ‘well capitalised’, can grow much fa...   \n",
       "3  India’s current account deficit declines sharp...   \n",
       "4  States borrowing cost soars to 7.68%, highest ...   \n",
       "\n",
       "                                         description  \\\n",
       "0  The central bank has also asked chairpersons a...   \n",
       "1  NDTV's consolidated revenue from operations wa...   \n",
       "2  The initial share sale will be open for public...   \n",
       "3  The current account deficit (CAD) was 3.8 per ...   \n",
       "4  The prices shot up reflecting the overall high...   \n",
       "\n",
       "                                             content  Category  \n",
       "0  The Reserve Bank of India (RBI) has changed th...         1  \n",
       "1  Broadcaster New Delhi Television Ltd on Monday...         1  \n",
       "2  Homegrown server maker Netweb Technologies Ind...         1  \n",
       "3  India’s current account deficit declined sharp...         1  \n",
       "4  States have been forced to pay through their n...         1  "
      ]
     },
     "execution_count": 35,
     "metadata": {},
     "output_type": "execute_result"
    }
   ],
   "source": [
    "train_df_copy.head()"
   ]
  },
  {
   "cell_type": "markdown",
   "id": "589715fb-4ec4-409e-8ba4-f3f96b585caa",
   "metadata": {},
   "source": [
    "Next, we will merge relevant columns, such as 'headlines,' 'description,' and 'content,' to create a comprehensive representation of each article. This consolidation will enhance our analysis and improve the model's understanding of the articles' context."
   ]
  },
  {
   "cell_type": "code",
   "execution_count": 36,
   "id": "bf30990f-5c5c-4367-b3f7-bc8d8dac3777",
   "metadata": {},
   "outputs": [],
   "source": [
    "# joining the columns to create one and then dropping the redundant columns\n",
    "train_df_copy['Content'] = train_df_copy['headlines'] + ' ' + train_df_copy['description'] + ' ' + train_df_copy['content']\n",
    "\n",
    "train_df_copy.drop(['headlines', 'description', 'content'], axis=1, inplace=True)"
   ]
  },
  {
   "cell_type": "code",
   "execution_count": 37,
   "id": "c6b53539-4a2c-4138-88c1-3fc74a0dc010",
   "metadata": {},
   "outputs": [
    {
     "data": {
      "text/html": [
       "<div>\n",
       "<style scoped>\n",
       "    .dataframe tbody tr th:only-of-type {\n",
       "        vertical-align: middle;\n",
       "    }\n",
       "\n",
       "    .dataframe tbody tr th {\n",
       "        vertical-align: top;\n",
       "    }\n",
       "\n",
       "    .dataframe thead th {\n",
       "        text-align: right;\n",
       "    }\n",
       "</style>\n",
       "<table border=\"1\" class=\"dataframe\">\n",
       "  <thead>\n",
       "    <tr style=\"text-align: right;\">\n",
       "      <th></th>\n",
       "      <th>Category</th>\n",
       "      <th>Content</th>\n",
       "    </tr>\n",
       "  </thead>\n",
       "  <tbody>\n",
       "    <tr>\n",
       "      <th>0</th>\n",
       "      <td>1</td>\n",
       "      <td>RBI revises definition of politically-exposed ...</td>\n",
       "    </tr>\n",
       "    <tr>\n",
       "      <th>1</th>\n",
       "      <td>1</td>\n",
       "      <td>NDTV Q2 net profit falls 57.4% to Rs 5.55 cror...</td>\n",
       "    </tr>\n",
       "    <tr>\n",
       "      <th>2</th>\n",
       "      <td>1</td>\n",
       "      <td>Akasa Air ‘well capitalised’, can grow much fa...</td>\n",
       "    </tr>\n",
       "    <tr>\n",
       "      <th>3</th>\n",
       "      <td>1</td>\n",
       "      <td>India’s current account deficit declines sharp...</td>\n",
       "    </tr>\n",
       "    <tr>\n",
       "      <th>4</th>\n",
       "      <td>1</td>\n",
       "      <td>States borrowing cost soars to 7.68%, highest ...</td>\n",
       "    </tr>\n",
       "  </tbody>\n",
       "</table>\n",
       "</div>"
      ],
      "text/plain": [
       "   Category                                            Content\n",
       "0         1  RBI revises definition of politically-exposed ...\n",
       "1         1  NDTV Q2 net profit falls 57.4% to Rs 5.55 cror...\n",
       "2         1  Akasa Air ‘well capitalised’, can grow much fa...\n",
       "3         1  India’s current account deficit declines sharp...\n",
       "4         1  States borrowing cost soars to 7.68%, highest ..."
      ]
     },
     "execution_count": 37,
     "metadata": {},
     "output_type": "execute_result"
    }
   ],
   "source": [
    "train_df_copy.head()"
   ]
  },
  {
   "cell_type": "markdown",
   "id": "bb3e3548-b70f-402d-af68-369c3b5fb639",
   "metadata": {},
   "source": [
    "Lastly, we will standardize the text data by converting everything to lowercase for consistency, removing punctuation, eliminating stop words that add little meaning, and lemmatizing the dataset. These steps will streamline the data, making it easier for classification algorithms to process effectively. Lemmatization will reduce words to their base forms, enhancing classification across all observations.\n",
    "\n",
    "We will define a function to perform these final cleanup steps on our content column."
   ]
  },
  {
   "cell_type": "code",
   "execution_count": 38,
   "id": "f4d6f91b-c512-4edc-ae5a-f6932586c89b",
   "metadata": {},
   "outputs": [],
   "source": [
    "from nltk.corpus import stopwords\n",
    "from nltk.stem import WordNetLemmatizer\n",
    "from nltk.tokenize import word_tokenize\n",
    "\n",
    "# text cleaning \n",
    "def clean_text(text):\n",
    "    \n",
    "    text = re.sub(r'\\W', ' ', text)    # removing special characters\n",
    "    text = text.lower()    # lowercasing the text\n",
    "    tokens = word_tokenize(text)   # tokenizing the text\n",
    "    \n",
    "    # removing stop words and lemmatizing to reduce the words to base words\n",
    "    lemmatizer = WordNetLemmatizer() #intiation\n",
    "    stop_words = set(stopwords.words('english'))\n",
    "    cleaned_tokens = [\n",
    "        lemmatizer.lemmatize(token) for token in tokens if token not in stop_words\n",
    "    ]\n",
    "\n",
    "    # joining tokens back to string\n",
    "    return ' '.join(cleaned_tokens)\n",
    "\n",
    "train_df_copy['Cleaned_Content'] = train_df_copy['Content'].apply(clean_text)"
   ]
  },
  {
   "cell_type": "code",
   "execution_count": 39,
   "id": "d66861ca-6a66-456e-9410-60fde84c39c4",
   "metadata": {},
   "outputs": [
    {
     "data": {
      "text/html": [
       "<div>\n",
       "<style scoped>\n",
       "    .dataframe tbody tr th:only-of-type {\n",
       "        vertical-align: middle;\n",
       "    }\n",
       "\n",
       "    .dataframe tbody tr th {\n",
       "        vertical-align: top;\n",
       "    }\n",
       "\n",
       "    .dataframe thead th {\n",
       "        text-align: right;\n",
       "    }\n",
       "</style>\n",
       "<table border=\"1\" class=\"dataframe\">\n",
       "  <thead>\n",
       "    <tr style=\"text-align: right;\">\n",
       "      <th></th>\n",
       "      <th>Category</th>\n",
       "      <th>Content</th>\n",
       "      <th>Cleaned_Content</th>\n",
       "    </tr>\n",
       "  </thead>\n",
       "  <tbody>\n",
       "    <tr>\n",
       "      <th>0</th>\n",
       "      <td>1</td>\n",
       "      <td>RBI revises definition of politically-exposed ...</td>\n",
       "      <td>rbi revise definition politically exposed pers...</td>\n",
       "    </tr>\n",
       "    <tr>\n",
       "      <th>1</th>\n",
       "      <td>1</td>\n",
       "      <td>NDTV Q2 net profit falls 57.4% to Rs 5.55 cror...</td>\n",
       "      <td>ndtv q2 net profit fall 57 4 r 5 55 crore impa...</td>\n",
       "    </tr>\n",
       "    <tr>\n",
       "      <th>2</th>\n",
       "      <td>1</td>\n",
       "      <td>Akasa Air ‘well capitalised’, can grow much fa...</td>\n",
       "      <td>akasa air well capitalised grow much faster ce...</td>\n",
       "    </tr>\n",
       "    <tr>\n",
       "      <th>3</th>\n",
       "      <td>1</td>\n",
       "      <td>India’s current account deficit declines sharp...</td>\n",
       "      <td>india current account deficit decline sharply ...</td>\n",
       "    </tr>\n",
       "    <tr>\n",
       "      <th>4</th>\n",
       "      <td>1</td>\n",
       "      <td>States borrowing cost soars to 7.68%, highest ...</td>\n",
       "      <td>state borrowing cost soar 7 68 highest far fis...</td>\n",
       "    </tr>\n",
       "  </tbody>\n",
       "</table>\n",
       "</div>"
      ],
      "text/plain": [
       "   Category                                            Content  \\\n",
       "0         1  RBI revises definition of politically-exposed ...   \n",
       "1         1  NDTV Q2 net profit falls 57.4% to Rs 5.55 cror...   \n",
       "2         1  Akasa Air ‘well capitalised’, can grow much fa...   \n",
       "3         1  India’s current account deficit declines sharp...   \n",
       "4         1  States borrowing cost soars to 7.68%, highest ...   \n",
       "\n",
       "                                     Cleaned_Content  \n",
       "0  rbi revise definition politically exposed pers...  \n",
       "1  ndtv q2 net profit fall 57 4 r 5 55 crore impa...  \n",
       "2  akasa air well capitalised grow much faster ce...  \n",
       "3  india current account deficit decline sharply ...  \n",
       "4  state borrowing cost soar 7 68 highest far fis...  "
      ]
     },
     "execution_count": 39,
     "metadata": {},
     "output_type": "execute_result"
    }
   ],
   "source": [
    "train_df_copy.head()"
   ]
  },
  {
   "cell_type": "markdown",
   "id": "bede3ff1-5ed2-4354-9a5d-012015ff8eee",
   "metadata": {},
   "source": [
    "We will close off this section by removing the 'Content' column which is now redundant. "
   ]
  },
  {
   "cell_type": "code",
   "execution_count": 40,
   "id": "b608599b-d4f6-4832-89a5-1adbb339824c",
   "metadata": {},
   "outputs": [
    {
     "data": {
      "text/html": [
       "<div>\n",
       "<style scoped>\n",
       "    .dataframe tbody tr th:only-of-type {\n",
       "        vertical-align: middle;\n",
       "    }\n",
       "\n",
       "    .dataframe tbody tr th {\n",
       "        vertical-align: top;\n",
       "    }\n",
       "\n",
       "    .dataframe thead th {\n",
       "        text-align: right;\n",
       "    }\n",
       "</style>\n",
       "<table border=\"1\" class=\"dataframe\">\n",
       "  <thead>\n",
       "    <tr style=\"text-align: right;\">\n",
       "      <th></th>\n",
       "      <th>Category</th>\n",
       "      <th>Cleaned_Content</th>\n",
       "    </tr>\n",
       "  </thead>\n",
       "  <tbody>\n",
       "    <tr>\n",
       "      <th>0</th>\n",
       "      <td>1</td>\n",
       "      <td>rbi revise definition politically exposed pers...</td>\n",
       "    </tr>\n",
       "    <tr>\n",
       "      <th>1</th>\n",
       "      <td>1</td>\n",
       "      <td>ndtv q2 net profit fall 57 4 r 5 55 crore impa...</td>\n",
       "    </tr>\n",
       "    <tr>\n",
       "      <th>2</th>\n",
       "      <td>1</td>\n",
       "      <td>akasa air well capitalised grow much faster ce...</td>\n",
       "    </tr>\n",
       "    <tr>\n",
       "      <th>3</th>\n",
       "      <td>1</td>\n",
       "      <td>india current account deficit decline sharply ...</td>\n",
       "    </tr>\n",
       "    <tr>\n",
       "      <th>4</th>\n",
       "      <td>1</td>\n",
       "      <td>state borrowing cost soar 7 68 highest far fis...</td>\n",
       "    </tr>\n",
       "  </tbody>\n",
       "</table>\n",
       "</div>"
      ],
      "text/plain": [
       "   Category                                    Cleaned_Content\n",
       "0         1  rbi revise definition politically exposed pers...\n",
       "1         1  ndtv q2 net profit fall 57 4 r 5 55 crore impa...\n",
       "2         1  akasa air well capitalised grow much faster ce...\n",
       "3         1  india current account deficit decline sharply ...\n",
       "4         1  state borrowing cost soar 7 68 highest far fis..."
      ]
     },
     "execution_count": 40,
     "metadata": {},
     "output_type": "execute_result"
    }
   ],
   "source": [
    "train_df_copy.drop('Content', axis=1, inplace=True)\n",
    "train_df_copy.head()"
   ]
  },
  {
   "cell_type": "markdown",
   "id": "358b9040-56cc-4d8a-8cf0-9b67b0220cbd",
   "metadata": {},
   "source": [
    "By applying these data cleaning techniques, we aim to build a high-quality dataset that improves the reliability of our classification model, ultimately leading to more accurate predictions of news categories."
   ]
  },
  {
   "cell_type": "markdown",
   "id": "32e2d6f6-d7dd-4693-b51c-be10ef672ce5",
   "metadata": {},
   "source": [
    "---\n",
    "<a id=\"six\"></a>\n",
    "## Exploratory Data Analysis (EDA)\n",
    "<a href=#cont>Back to Table of Contents</a>"
   ]
  },
  {
   "cell_type": "markdown",
   "id": "d3e93e51-705e-456f-859d-dd735febc429",
   "metadata": {},
   "source": [
    "----\n",
    "<a id=\"seven\"></a>\n",
    "## Modeling\n",
    "<a href=#cont>Back to Table of Contents</a>"
   ]
  },
  {
   "cell_type": "markdown",
   "id": "109ca010-9742-45e7-b6dd-fa3631f9544e",
   "metadata": {},
   "source": [
    "---\n",
    "<a id=\"eight\"></a>\n",
    "## Evaluation and Validation\n",
    "<a href=#cont>Back to Table of Contents</a>"
   ]
  },
  {
   "cell_type": "markdown",
   "id": "67319a51-c0c0-465c-989c-c8fcd904e45c",
   "metadata": {},
   "source": [
    "---\n",
    "<a id=\"nine\"></a>\n",
    "## Final Model\n",
    "<a href=#cont>Back to Table of Contents</a>"
   ]
  },
  {
   "cell_type": "markdown",
   "id": "b9752ec1-c699-451e-a54c-c85af51cc849",
   "metadata": {},
   "source": [
    "---\n",
    "<a id=\"ten\"></a>\n",
    "## Conclusion and Future Work\n",
    "<a href=#cont>Back to Table of Contents</a>"
   ]
  },
  {
   "cell_type": "markdown",
   "id": "1cc8d11b-2f2c-4895-92a9-5e091a3595f2",
   "metadata": {},
   "source": [
    "---\n",
    "<a id=\"eleven\"></a>\n",
    "## References\n",
    "<a href=#cont>Back to Table of Contents</a>"
   ]
  },
  {
   "cell_type": "markdown",
   "id": "7e1065e9-9605-484b-a10f-7e63d792f61a",
   "metadata": {},
   "source": [
    "[1] Rao, S., Sudarshan, K. and Abhishek (2020) 'News Article Category Predictor', Department of Computer Science and Engineering, Srinivas Institute of Technology, Valachil, India.\n",
    "\n",
    "[2] Tong, S. and Koller, D. (2000) 'Support vector machine active learning with applications to text classification', in Langley, P. (ed.) Proceedings ICML-00, 17th International Conference on Machine Learning, pp. 999–1006.\n",
    "\n",
    "[3] McCallum, A. and Nigam, K. (1998) 'A comparison of event models for naive Bayes text classification', in AAAI/ICML-98 Workshop on Learning for Text Categorization."
   ]
  },
  {
   "cell_type": "code",
   "execution_count": null,
   "id": "c0b60dd6-5d26-4dfc-8642-02086b23beaa",
   "metadata": {},
   "outputs": [],
   "source": []
  }
 ],
 "metadata": {
  "kernelspec": {
   "display_name": "Python 3 (ipykernel)",
   "language": "python",
   "name": "python3"
  },
  "language_info": {
   "codemirror_mode": {
    "name": "ipython",
    "version": 3
   },
   "file_extension": ".py",
   "mimetype": "text/x-python",
   "name": "python",
   "nbconvert_exporter": "python",
   "pygments_lexer": "ipython3",
   "version": "3.11.7"
  }
 },
 "nbformat": 4,
 "nbformat_minor": 5
}
