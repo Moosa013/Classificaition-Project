{
 "cells": [
  {
   "cell_type": "code",
   "execution_count": null,
   "id": "4ddcede5-3e12-4b41-a27a-4aafc36be521",
   "metadata": {},
   "outputs": [],
   "source": [
    "# hyperparameter tuning using GridSearchCV\n",
    "\n",
    "from sklearn.model_selection import GridSearchCV\n",
    "\n",
    "param_grids = {\n",
    "    'Logistic Regression': {\n",
    "        'C': [0.1, 1, 10],  # Regularization strength\n",
    "        'penalty': ['l2'],  # Typically use 'l2' regularization\n",
    "        'solver': ['liblinear', 'saga']  # Solvers commonly used for small to medium datasets\n",
    "    },\n",
    "    'SVM': {\n",
    "        'C': [0.1, 1, 10],  # Regularization parameter\n",
    "        'kernel': ['linear', 'rbf'],  # Linear or Radial basis function kernel\n",
    "        'gamma': ['scale', 'auto'],  # Kernel coefficient for 'rbf' (if kernel='rbf')\n",
    "        'degree': [3, 4],  # Degree of polynomial kernel function (relevant only for 'poly' kernel)\n",
    "    },\n",
    "    'Naive Bayes': {\n",
    "        'alpha': [0.1, 0.5, 1.0, 2.0]  # Smoothing parameter (Laplace smoothing)\n",
    "    }\n",
    "}\n",
    "\n",
    "# Perform GridSearchCV for each model\n",
    "best_models = {}\n",
    "for name, model in model_results.items():\n",
    "    if name in param_grids:\n",
    "        grid_search = GridSearchCV(model, param_grids[name], cv=5, scoring='accuracy', n_jobs=-1)\n",
    "        grid_search.fit(X_resampled, y_resampled)\n",
    "        best_models[name] = grid_search.best_estimator_\n",
    "        print(f\"Best Parameters for {name}: {grid_search.best_params_}\")"
   ]
  }
 ],
 "metadata": {
  "kernelspec": {
   "display_name": "Python 3 (ipykernel)",
   "language": "python",
   "name": "python3"
  },
  "language_info": {
   "codemirror_mode": {
    "name": "ipython",
    "version": 3
   },
   "file_extension": ".py",
   "mimetype": "text/x-python",
   "name": "python",
   "nbconvert_exporter": "python",
   "pygments_lexer": "ipython3",
   "version": "3.11.7"
  }
 },
 "nbformat": 4,
 "nbformat_minor": 5
}
